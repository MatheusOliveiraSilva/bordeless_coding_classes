{
 "cells": [
  {
   "cell_type": "code",
   "execution_count": 16,
   "metadata": {},
   "outputs": [],
   "source": [
    "from langchain_openai import ChatOpenAI\n",
    "from dotenv import load_dotenv\n",
    "\n",
    "load_dotenv()\n",
    "\n",
    "llm = ChatOpenAI(model=\"gpt-4o\")\n",
    "\n",
    "def add(a:int, b:int) -> int:\n",
    "    \"\"\"Function that take two integers a and b and return the sum of them.\n",
    "    Args:\n",
    "        a: The first integer.\n",
    "        b: The second integer.\n",
    "        \n",
    "    Returns:\n",
    "        The sum of a and b.\n",
    "    \"\"\"\n",
    "    return a + b\n",
    "\n",
    "TOOLS = [add]\n",
    "\n",
    "llm_with_tools = llm.bind_tools(TOOLS)\n",
    "\n",
    "from langgraph.graph.message import add_messages\n",
    "from typing import TypedDict, List, Annotated\n",
    "from langchain_core.messages import BaseMessage, SystemMessage\n",
    "\n",
    "class AgentState(TypedDict):\n",
    "    messages: Annotated[List, add_messages]\n",
    "\n",
    "from langchain_core.messages import SystemMessage\n",
    "\n",
    "def assistant(state: AgentState):\n",
    "\n",
    "    sys_msg = SystemMessage(\n",
    "        content=\"You are a helpful assistant that can call tools to answer questions.\"\n",
    "    )\n",
    "\n",
    "    return {\"messages\": [llm_with_tools.invoke([sys_msg] + state[\"messages\"])]}"
   ]
  },
  {
   "cell_type": "code",
   "execution_count": 17,
   "metadata": {},
   "outputs": [],
   "source": [
    "from langgraph.prebuilt import tools_condition, ToolNode\n",
    "from langgraph.graph import StateGraph, START, END\n",
    "\n",
    "graph_builder = StateGraph(AgentState)\n",
    "\n",
    "graph_builder.add_node(\"assistant\", assistant)\n",
    "graph_builder.add_node(\"tools\", ToolNode(TOOLS))\n",
    "\n",
    "graph_builder.add_edge(START, \"assistant\")\n",
    "graph_builder.add_conditional_edges(\n",
    "    \"assistant\",\n",
    "    tools_condition\n",
    ")\n",
    "graph_builder.add_edge(\"tools\", \"assistant\")\n",
    "\n",
    "agent_graph = graph_builder.compile()"
   ]
  },
  {
   "cell_type": "code",
   "execution_count": 18,
   "metadata": {},
   "outputs": [
    {
     "name": "stdout",
     "output_type": "stream",
     "text": [
      "====\n",
      "Message type:\n",
      "human\n",
      "Message content:\n",
      "content='What is the sum of 2 and 2?' additional_kwargs={} response_metadata={} id='ce63415d-f958-40a7-afc1-8b57960f0d42'\n",
      "====\n",
      "Message type:\n",
      "ai\n",
      "Message content:\n",
      "content='' additional_kwargs={'tool_calls': [{'id': 'call_MgBla2QnsMEDQqb6AePY9ib8', 'function': {'arguments': '{\"a\":2,\"b\":2}', 'name': 'add'}, 'type': 'function'}], 'refusal': None} response_metadata={'token_usage': {'completion_tokens': 17, 'prompt_tokens': 93, 'total_tokens': 110, 'completion_tokens_details': {'accepted_prediction_tokens': 0, 'audio_tokens': 0, 'reasoning_tokens': 0, 'rejected_prediction_tokens': 0}, 'prompt_tokens_details': {'audio_tokens': 0, 'cached_tokens': 0}}, 'model_name': 'gpt-4o-2024-08-06', 'system_fingerprint': 'fp_07871e2ad8', 'id': 'chatcmpl-Bf7y2ud9krfWYYSWPXiLC8WZCVBRK', 'service_tier': 'default', 'finish_reason': 'tool_calls', 'logprobs': None} id='run--eb44f969-1e5a-4e6e-81d4-3818006f9760-0' tool_calls=[{'name': 'add', 'args': {'a': 2, 'b': 2}, 'id': 'call_MgBla2QnsMEDQqb6AePY9ib8', 'type': 'tool_call'}] usage_metadata={'input_tokens': 93, 'output_tokens': 17, 'total_tokens': 110, 'input_token_details': {'audio': 0, 'cache_read': 0}, 'output_token_details': {'audio': 0, 'reasoning': 0}}\n",
      "====\n",
      "Message type:\n",
      "tool\n",
      "Message content:\n",
      "content='4' name='add' id='9a4dfcee-f908-4515-9de0-edb8ab948937' tool_call_id='call_MgBla2QnsMEDQqb6AePY9ib8'\n",
      "====\n",
      "Message type:\n",
      "ai\n",
      "Message content:\n",
      "content='The sum of 2 and 2 is 4.' additional_kwargs={'refusal': None} response_metadata={'token_usage': {'completion_tokens': 13, 'prompt_tokens': 118, 'total_tokens': 131, 'completion_tokens_details': {'accepted_prediction_tokens': 0, 'audio_tokens': 0, 'reasoning_tokens': 0, 'rejected_prediction_tokens': 0}, 'prompt_tokens_details': {'audio_tokens': 0, 'cached_tokens': 0}}, 'model_name': 'gpt-4o-2024-08-06', 'system_fingerprint': 'fp_07871e2ad8', 'id': 'chatcmpl-Bf7y3PFidVB0Xft1Wn5ZmoKyRPxPA', 'service_tier': 'default', 'finish_reason': 'stop', 'logprobs': None} id='run--6179aa95-dded-41bd-ab0a-07fc69fd4e41-0' usage_metadata={'input_tokens': 118, 'output_tokens': 13, 'total_tokens': 131, 'input_token_details': {'audio': 0, 'cache_read': 0}, 'output_token_details': {'audio': 0, 'reasoning': 0}}\n"
     ]
    }
   ],
   "source": [
    "from langchain_core.messages import HumanMessage\n",
    "\n",
    "agent_input: AgentState = {\n",
    "    \"messages\": [\n",
    "        HumanMessage(content=\"What is the sum of 2 and 2?\")\n",
    "    ]\n",
    "}\n",
    "\n",
    "response = agent_graph.invoke(agent_input)\n",
    "\n",
    "for message in response[\"messages\"]:\n",
    "    print(\"====\\nMessage type:\")\n",
    "    print(message.type)\n",
    "    print(\"Message content:\")\n",
    "    print(message)"
   ]
  },
  {
   "cell_type": "code",
   "execution_count": null,
   "metadata": {},
   "outputs": [],
   "source": []
  },
  {
   "cell_type": "code",
   "execution_count": null,
   "metadata": {},
   "outputs": [],
   "source": []
  },
  {
   "cell_type": "code",
   "execution_count": null,
   "metadata": {},
   "outputs": [],
   "source": []
  }
 ],
 "metadata": {
  "kernelspec": {
   "display_name": ".venv",
   "language": "python",
   "name": "python3"
  },
  "language_info": {
   "codemirror_mode": {
    "name": "ipython",
    "version": 3
   },
   "file_extension": ".py",
   "mimetype": "text/x-python",
   "name": "python",
   "nbconvert_exporter": "python",
   "pygments_lexer": "ipython3",
   "version": "3.12.9"
  }
 },
 "nbformat": 4,
 "nbformat_minor": 2
}
