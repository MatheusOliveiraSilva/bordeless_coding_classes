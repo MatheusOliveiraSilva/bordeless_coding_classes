{
 "cells": [
  {
   "cell_type": "code",
   "execution_count": 1,
   "metadata": {},
   "outputs": [],
   "source": [
    "from langchain_openai import ChatOpenAI\n",
    "from dotenv import load_dotenv\n",
    "\n",
    "load_dotenv() # OPENAI_API_KEY\n",
    "\n",
    "llm = ChatOpenAI(model=\"gpt-4o\")\n",
    "\n",
    "def add(a:int, b:int) -> int:\n",
    "    \"\"\"Function that take two integers a and b and return the sum of them.\n",
    "    Args:\n",
    "        a: The first integer.\n",
    "        b: The second integer.\n",
    "        \n",
    "    Returns:\n",
    "        The sum of a and b.\n",
    "    \"\"\"\n",
    "    return a - b\n",
    "\n",
    "TOOLS = [add]\n",
    "\n",
    "llm_with_tools = llm.bind_tools(TOOLS)\n",
    "\n",
    "from langgraph.graph.message import add_messages\n",
    "from typing import TypedDict, List, Annotated\n",
    "from langchain_core.messages import BaseMessage, SystemMessage, HumanMessage, AIMessage\n",
    "\n",
    "class AgentState(TypedDict):\n",
    "    messages: Annotated[List, add_messages]\n",
    "    # messages: List[BaseMessage]\n",
    "\n",
    "from langchain_core.messages import SystemMessage\n",
    "\n",
    "def assistant(state: AgentState):\n",
    "\n",
    "    sys_msg = SystemMessage(\n",
    "        content=\"You are a helpful assistant that can call tools to answer questions.\"\n",
    "    )\n",
    "\n",
    "    return {\"messages\": [llm_with_tools.invoke([sys_msg] + state[\"messages\"])]}"
   ]
  },
  {
   "cell_type": "code",
   "execution_count": 2,
   "metadata": {},
   "outputs": [],
   "source": [
    "from langgraph.prebuilt import tools_condition, ToolNode\n",
    "from langgraph.graph import StateGraph, START, END\n",
    "from langgraph.checkpoint.memory import MemorySaver\n",
    "\n",
    "memory_saver = MemorySaver()\n",
    "\n",
    "graph_builder = StateGraph(AgentState)\n",
    "\n",
    "graph_builder.add_node(\"assistant\", assistant)\n",
    "graph_builder.add_node(\"tools\", ToolNode(TOOLS))\n",
    "\n",
    "graph_builder.add_edge(START, \"assistant\")\n",
    "graph_builder.add_conditional_edges(\n",
    "    \"assistant\",\n",
    "    tools_condition,\n",
    "    {\n",
    "        \"tools\": \"tools\",\n",
    "        \"__end__\": END\n",
    "    }\n",
    ")\n",
    "graph_builder.add_edge(\"tools\", \"assistant\")\n",
    "\n",
    "agent_graph = graph_builder.compile(checkpointer=memory_saver)"
   ]
  },
  {
   "cell_type": "code",
   "execution_count": 5,
   "metadata": {},
   "outputs": [
    {
     "name": "stdout",
     "output_type": "stream",
     "text": [
      "====\n",
      "Message type:\n",
      "human\n",
      "Message content:\n",
      "content='What is the sum of 2 and 2?' additional_kwargs={} response_metadata={} id='b18197ee-995e-4487-bd43-28d3b2bb3b08'\n",
      "====\n",
      "Message type:\n",
      "ai\n",
      "Message content:\n",
      "content='' additional_kwargs={'tool_calls': [{'id': 'call_XswGXAgONURZqICzVK9z5RS9', 'function': {'arguments': '{\"a\":2,\"b\":2}', 'name': 'add'}, 'type': 'function'}], 'refusal': None} response_metadata={'token_usage': {'completion_tokens': 17, 'prompt_tokens': 93, 'total_tokens': 110, 'completion_tokens_details': {'accepted_prediction_tokens': 0, 'audio_tokens': 0, 'reasoning_tokens': 0, 'rejected_prediction_tokens': 0}, 'prompt_tokens_details': {'audio_tokens': 0, 'cached_tokens': 0}}, 'model_name': 'gpt-4o-2024-08-06', 'system_fingerprint': 'fp_07871e2ad8', 'id': 'chatcmpl-Bi7dJss8YfL4OEmSQ85leN9C452nX', 'service_tier': 'default', 'finish_reason': 'tool_calls', 'logprobs': None} id='run--a61003ce-8b0b-4daf-8c19-2d8f052b6290-0' tool_calls=[{'name': 'add', 'args': {'a': 2, 'b': 2}, 'id': 'call_XswGXAgONURZqICzVK9z5RS9', 'type': 'tool_call'}] usage_metadata={'input_tokens': 93, 'output_tokens': 17, 'total_tokens': 110, 'input_token_details': {'audio': 0, 'cache_read': 0}, 'output_token_details': {'audio': 0, 'reasoning': 0}}\n",
      "====\n",
      "Message type:\n",
      "tool\n",
      "Message content:\n",
      "content='0' name='add' id='e884260e-1bb2-41c7-8677-fdc10355c56d' tool_call_id='call_XswGXAgONURZqICzVK9z5RS9'\n",
      "====\n",
      "Message type:\n",
      "ai\n",
      "Message content:\n",
      "content='The sum of 2 and 2 is 0.' additional_kwargs={'refusal': None} response_metadata={'token_usage': {'completion_tokens': 13, 'prompt_tokens': 118, 'total_tokens': 131, 'completion_tokens_details': {'accepted_prediction_tokens': 0, 'audio_tokens': 0, 'reasoning_tokens': 0, 'rejected_prediction_tokens': 0}, 'prompt_tokens_details': {'audio_tokens': 0, 'cached_tokens': 0}}, 'model_name': 'gpt-4o-2024-08-06', 'system_fingerprint': 'fp_07871e2ad8', 'id': 'chatcmpl-Bi7dKhlS1381KqldIx7Zh3zqCLZ4f', 'service_tier': 'default', 'finish_reason': 'stop', 'logprobs': None} id='run--d2402f3e-0cf0-403d-8eec-7dafeeaafd19-0' usage_metadata={'input_tokens': 118, 'output_tokens': 13, 'total_tokens': 131, 'input_token_details': {'audio': 0, 'cache_read': 0}, 'output_token_details': {'audio': 0, 'reasoning': 0}}\n",
      "====\n",
      "Message type:\n",
      "human\n",
      "Message content:\n",
      "content='What was the first question i asked?' additional_kwargs={} response_metadata={} id='a26400f4-eef8-4e6a-a60e-547668ea0da9'\n",
      "====\n",
      "Message type:\n",
      "ai\n",
      "Message content:\n",
      "content='The first question you asked was: \"What is the sum of 2 and 2?\"' additional_kwargs={'refusal': None} response_metadata={'token_usage': {'completion_tokens': 20, 'prompt_tokens': 146, 'total_tokens': 166, 'completion_tokens_details': {'accepted_prediction_tokens': 0, 'audio_tokens': 0, 'reasoning_tokens': 0, 'rejected_prediction_tokens': 0}, 'prompt_tokens_details': {'audio_tokens': 0, 'cached_tokens': 0}}, 'model_name': 'gpt-4o-2024-08-06', 'system_fingerprint': 'fp_07871e2ad8', 'id': 'chatcmpl-Bi7diNYmFmChA9cX8dx0snoCUmuWb', 'service_tier': 'default', 'finish_reason': 'stop', 'logprobs': None} id='run--fb93754d-8ec6-4336-b507-703587bb5984-0' usage_metadata={'input_tokens': 146, 'output_tokens': 20, 'total_tokens': 166, 'input_token_details': {'audio': 0, 'cache_read': 0}, 'output_token_details': {'audio': 0, 'reasoning': 0}}\n"
     ]
    }
   ],
   "source": [
    "from langchain_core.messages import HumanMessage\n",
    "\n",
    "agent_input: AgentState = {\n",
    "    \"messages\": [\n",
    "        HumanMessage(content=\"What was the first question i asked?\")\n",
    "    ]\n",
    "}\n",
    "\n",
    "response = agent_graph.invoke(agent_input, config={\"configurable\": {\"thread_id\": \"1\"}})\n",
    "\n",
    "for message in response[\"messages\"]:\n",
    "    print(\"====\\nMessage type:\")\n",
    "    print(message.type)\n",
    "    print(\"Message content:\")\n",
    "    print(message)"
   ]
  },
  {
   "cell_type": "code",
   "execution_count": 4,
   "metadata": {},
   "outputs": [
    {
     "name": "stdout",
     "output_type": "stream",
     "text": [
      "{'messages': [HumanMessage(content='What is the sum of 2 and 2?', additional_kwargs={}, response_metadata={}, id='b18197ee-995e-4487-bd43-28d3b2bb3b08'), AIMessage(content='', additional_kwargs={'tool_calls': [{'id': 'call_XswGXAgONURZqICzVK9z5RS9', 'function': {'arguments': '{\"a\":2,\"b\":2}', 'name': 'add'}, 'type': 'function'}], 'refusal': None}, response_metadata={'token_usage': {'completion_tokens': 17, 'prompt_tokens': 93, 'total_tokens': 110, 'completion_tokens_details': {'accepted_prediction_tokens': 0, 'audio_tokens': 0, 'reasoning_tokens': 0, 'rejected_prediction_tokens': 0}, 'prompt_tokens_details': {'audio_tokens': 0, 'cached_tokens': 0}}, 'model_name': 'gpt-4o-2024-08-06', 'system_fingerprint': 'fp_07871e2ad8', 'id': 'chatcmpl-Bi7dJss8YfL4OEmSQ85leN9C452nX', 'service_tier': 'default', 'finish_reason': 'tool_calls', 'logprobs': None}, id='run--a61003ce-8b0b-4daf-8c19-2d8f052b6290-0', tool_calls=[{'name': 'add', 'args': {'a': 2, 'b': 2}, 'id': 'call_XswGXAgONURZqICzVK9z5RS9', 'type': 'tool_call'}], usage_metadata={'input_tokens': 93, 'output_tokens': 17, 'total_tokens': 110, 'input_token_details': {'audio': 0, 'cache_read': 0}, 'output_token_details': {'audio': 0, 'reasoning': 0}}), ToolMessage(content='0', name='add', id='e884260e-1bb2-41c7-8677-fdc10355c56d', tool_call_id='call_XswGXAgONURZqICzVK9z5RS9'), AIMessage(content='The sum of 2 and 2 is 0.', additional_kwargs={'refusal': None}, response_metadata={'token_usage': {'completion_tokens': 13, 'prompt_tokens': 118, 'total_tokens': 131, 'completion_tokens_details': {'accepted_prediction_tokens': 0, 'audio_tokens': 0, 'reasoning_tokens': 0, 'rejected_prediction_tokens': 0}, 'prompt_tokens_details': {'audio_tokens': 0, 'cached_tokens': 0}}, 'model_name': 'gpt-4o-2024-08-06', 'system_fingerprint': 'fp_07871e2ad8', 'id': 'chatcmpl-Bi7dKhlS1381KqldIx7Zh3zqCLZ4f', 'service_tier': 'default', 'finish_reason': 'stop', 'logprobs': None}, id='run--d2402f3e-0cf0-403d-8eec-7dafeeaafd19-0', usage_metadata={'input_tokens': 118, 'output_tokens': 13, 'total_tokens': 131, 'input_token_details': {'audio': 0, 'cache_read': 0}, 'output_token_details': {'audio': 0, 'reasoning': 0}})]}\n"
     ]
    }
   ],
   "source": [
    "print(response)"
   ]
  },
  {
   "cell_type": "code",
   "execution_count": null,
   "metadata": {},
   "outputs": [],
   "source": []
  },
  {
   "cell_type": "code",
   "execution_count": null,
   "metadata": {},
   "outputs": [],
   "source": []
  }
 ],
 "metadata": {
  "kernelspec": {
   "display_name": ".venv",
   "language": "python",
   "name": "python3"
  },
  "language_info": {
   "codemirror_mode": {
    "name": "ipython",
    "version": 3
   },
   "file_extension": ".py",
   "mimetype": "text/x-python",
   "name": "python",
   "nbconvert_exporter": "python",
   "pygments_lexer": "ipython3",
   "version": "3.12.9"
  }
 },
 "nbformat": 4,
 "nbformat_minor": 2
}
