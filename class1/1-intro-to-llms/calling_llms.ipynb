{
 "cells": [
  {
   "cell_type": "markdown",
   "metadata": {},
   "source": [
    "## Direct API Call"
   ]
  },
  {
   "cell_type": "code",
   "execution_count": 1,
   "metadata": {},
   "outputs": [
    {
     "name": "stdout",
     "output_type": "stream",
     "text": [
      "{'id': 'resp_684ca6b5854081999227a9aee2cddc650cc1187934761dfc', 'object': 'response', 'created_at': 1749853877, 'status': 'completed', 'background': False, 'error': None, 'incomplete_details': None, 'instructions': None, 'max_output_tokens': None, 'model': 'gpt-4o-2024-08-06', 'output': [{'id': 'msg_684ca6b5ec988199bde24d0366585afe0cc1187934761dfc', 'type': 'message', 'status': 'completed', 'content': [{'type': 'output_text', 'annotations': [], 'text': 'Under the shimmering light of the moon, Luna the unicorn gently touched her horn to a sleeping star, granting the night sky a cascade of twinkling dreams for all.'}], 'role': 'assistant'}], 'parallel_tool_calls': True, 'previous_response_id': None, 'reasoning': {'effort': None, 'summary': None}, 'service_tier': 'default', 'store': True, 'temperature': 1.0, 'text': {'format': {'type': 'text'}}, 'tool_choice': 'auto', 'tools': [], 'top_p': 1.0, 'truncation': 'disabled', 'usage': {'input_tokens': 18, 'input_tokens_details': {'cached_tokens': 0}, 'output_tokens': 35, 'output_tokens_details': {'reasoning_tokens': 0}, 'total_tokens': 53}, 'user': None, 'metadata': {}}\n"
     ]
    }
   ],
   "source": [
    "# curl \"https://api.openai.com/v1/responses\" \\\n",
    "#     -H \"Content-Type: application/json\" \\\n",
    "#     -H \"Authorization: Bearer $OPENAI_API_KEY\" \\\n",
    "#     -d '{\n",
    "#         \"model\": \"gpt-4.1\",\n",
    "#         \"input\": \"Write a one-sentence bedtime story about a unicorn.\"\n",
    "#       }'\n",
    "\n",
    "import os\n",
    "import requests\n",
    "from dotenv import load_dotenv\n",
    "\n",
    "load_dotenv()\n",
    "\n",
    "def call_llm(model: str, input: str):\n",
    "    url = \"https://api.openai.com/v1/responses\"\n",
    "    headers = {\n",
    "        \"Content-Type\": \"application/json\",\n",
    "        \"Authorization\": f\"Bearer {os.getenv('OPENAI_API_KEY')}\"\n",
    "    }\n",
    "    data = {\n",
    "        \"model\": model,\n",
    "        \"input\": input\n",
    "    }\n",
    "    response = requests.post(url, headers=headers, json=data)\n",
    "    return response.json()\n",
    "\n",
    "response = call_llm(\"gpt-4o\", \"Write a one-sentence bedtime story about a unicorn.\")\n",
    "\n",
    "print(response)"
   ]
  },
  {
   "cell_type": "code",
   "execution_count": 2,
   "metadata": {},
   "outputs": [
    {
     "data": {
      "text/plain": [
       "[{'id': 'msg_684c7a858f04819b984fbb8243aba03d065925d1761b5245',\n",
       "  'type': 'message',\n",
       "  'status': 'completed',\n",
       "  'content': [{'type': 'output_text',\n",
       "    'annotations': [],\n",
       "    'text': 'Under the glow of a silver moon, Luna the unicorn spread her shimmering wings and soared above enchanted forests, weaving dreams of magic and stardust for all who slept below.'}],\n",
       "  'role': 'assistant'}]"
      ]
     },
     "execution_count": 2,
     "metadata": {},
     "output_type": "execute_result"
    }
   ],
   "source": [
    "response[\"output\"]"
   ]
  },
  {
   "cell_type": "markdown",
   "metadata": {},
   "source": [
    "## OpenAI SDK Call"
   ]
  },
  {
   "cell_type": "code",
   "execution_count": 3,
   "metadata": {},
   "outputs": [
    {
     "name": "stdout",
     "output_type": "stream",
     "text": [
      "Response(id='resp_684c7a8946b8819ab8a93a7393be1b560c62666bf9a5fb4b', created_at=1749842569.0, error=None, incomplete_details=None, instructions=None, metadata={}, model='gpt-4.1-2025-04-14', object='response', output=[ResponseOutputMessage(id='msg_684c7a89e438819a91502bd8eac683420c62666bf9a5fb4b', content=[ResponseOutputText(annotations=[], text='In a sparkling forest, a gentle unicorn named Luna discovered a hidden pond that glowed with moonlight. She dipped her horn into the water, and magical fireflies danced all around her, lighting up the night. With a happy heart, Luna wished sweet dreams for every creature before curling up under a silver tree to sleep.', type='output_text', logprobs=None)], role='assistant', status='completed', type='message')], parallel_tool_calls=True, temperature=1.0, tool_choice='auto', tools=[], top_p=1.0, background=False, max_output_tokens=None, previous_response_id=None, reasoning=Reasoning(effort=None, generate_summary=None, summary=None), service_tier='default', status='completed', text=ResponseTextConfig(format=ResponseFormatText(type='text')), truncation='disabled', usage=ResponseUsage(input_tokens=18, input_tokens_details=InputTokensDetails(cached_tokens=0), output_tokens=66, output_tokens_details=OutputTokensDetails(reasoning_tokens=0), total_tokens=84), user=None, store=True)\n"
     ]
    }
   ],
   "source": [
    "from openai import OpenAI\n",
    "\n",
    "client = OpenAI()\n",
    "\n",
    "response = client.responses.create(\n",
    "  model=\"gpt-4.1\",\n",
    "  input=\"Tell me a three sentence bedtime story about a unicorn.\"\n",
    ")\n",
    "\n",
    "print(response)"
   ]
  },
  {
   "cell_type": "code",
   "execution_count": 4,
   "metadata": {},
   "outputs": [
    {
     "data": {
      "text/plain": [
       "'In a sparkling forest, a gentle unicorn named Luna discovered a hidden pond that glowed with moonlight. She dipped her horn into the water, and magical fireflies danced all around her, lighting up the night. With a happy heart, Luna wished sweet dreams for every creature before curling up under a silver tree to sleep.'"
      ]
     },
     "execution_count": 4,
     "metadata": {},
     "output_type": "execute_result"
    }
   ],
   "source": [
    "response.output[0].content[0].text"
   ]
  },
  {
   "cell_type": "markdown",
   "metadata": {},
   "source": [
    "## LangChain Call"
   ]
  },
  {
   "cell_type": "code",
   "execution_count": 2,
   "metadata": {},
   "outputs": [
    {
     "data": {
      "text/plain": [
       "AIMessage(content='Once upon a time, in a hidden glen beneath the shimmering moon, lived a gentle unicorn named Luna who could make flowers bloom with a single touch of her golden horn. One evening, Luna stumbled upon a young girl lost in the woods and, sensing her sadness, used her magic to illuminate the path home with twinkling lights. Grateful and filled with wonder, the girl returned each night to visit Luna, and together they painted the night sky with dreams and stardust.', additional_kwargs={'refusal': None}, response_metadata={'token_usage': {'completion_tokens': 98, 'prompt_tokens': 18, 'total_tokens': 116, 'completion_tokens_details': {'accepted_prediction_tokens': 0, 'audio_tokens': 0, 'reasoning_tokens': 0, 'rejected_prediction_tokens': 0}, 'prompt_tokens_details': {'audio_tokens': 0, 'cached_tokens': 0}}, 'model_name': 'gpt-4o-2024-08-06', 'system_fingerprint': 'fp_a288987b44', 'id': 'chatcmpl-Bi7HFuZetwwGVkaQ7a8J4W9mklOMp', 'service_tier': 'default', 'finish_reason': 'stop', 'logprobs': None}, id='run--b52ade3a-1d0c-4e49-8a5b-566ad174abd7-0', usage_metadata={'input_tokens': 18, 'output_tokens': 98, 'total_tokens': 116, 'input_token_details': {'audio': 0, 'cache_read': 0}, 'output_token_details': {'audio': 0, 'reasoning': 0}})"
      ]
     },
     "execution_count": 2,
     "metadata": {},
     "output_type": "execute_result"
    }
   ],
   "source": [
    "from langchain_openai import ChatOpenAI\n",
    "from langchain_core.messages import HumanMessage, AIMessage, BaseMessage\n",
    "\n",
    "llm = ChatOpenAI(model=\"gpt-4o\")\n",
    "\n",
    "response = llm.invoke(\"Tell me a three sentence bedtime story about a unicorn.\")\n",
    "\n",
    "response"
   ]
  },
  {
   "cell_type": "code",
   "execution_count": 3,
   "metadata": {},
   "outputs": [
    {
     "data": {
      "text/plain": [
       "AIMessage(content='The sum of 1 and 2 is 3.', additional_kwargs={'refusal': None}, response_metadata={'token_usage': {'completion_tokens': 12, 'prompt_tokens': 18, 'total_tokens': 30, 'completion_tokens_details': {'accepted_prediction_tokens': 0, 'audio_tokens': 0, 'reasoning_tokens': 0, 'rejected_prediction_tokens': 0}, 'prompt_tokens_details': {'audio_tokens': 0, 'cached_tokens': 0}}, 'model_name': 'gpt-4o-2024-08-06', 'system_fingerprint': 'fp_a288987b44', 'id': 'chatcmpl-Bi7HIFz8MfySG4sEtIVQYT4jOCPKy', 'service_tier': 'default', 'finish_reason': 'stop', 'logprobs': None}, id='run--2c757cd9-82b8-4efa-9c0b-4de647f2f519-0', usage_metadata={'input_tokens': 18, 'output_tokens': 12, 'total_tokens': 30, 'input_token_details': {'audio': 0, 'cache_read': 0}, 'output_token_details': {'audio': 0, 'reasoning': 0}})"
      ]
     },
     "execution_count": 3,
     "metadata": {},
     "output_type": "execute_result"
    }
   ],
   "source": [
    "llm.invoke(\"What is the sum of 1 and 2?\")"
   ]
  },
  {
   "cell_type": "code",
   "execution_count": null,
   "metadata": {},
   "outputs": [
    {
     "data": {
      "text/plain": [
       "AIMessage(content='', additional_kwargs={'tool_calls': [{'id': 'call_mfgjKaXkfBJJ0xEvC2ll6i0n', 'function': {'arguments': '{\"a\":1,\"b\":2}', 'name': 'add'}, 'type': 'function'}], 'refusal': None}, response_metadata={'token_usage': {'completion_tokens': 17, 'prompt_tokens': 80, 'total_tokens': 97, 'completion_tokens_details': {'accepted_prediction_tokens': 0, 'audio_tokens': 0, 'reasoning_tokens': 0, 'rejected_prediction_tokens': 0}, 'prompt_tokens_details': {'audio_tokens': 0, 'cached_tokens': 0}}, 'model_name': 'gpt-4o-2024-08-06', 'system_fingerprint': 'fp_a288987b44', 'id': 'chatcmpl-Bi7HJUCuonQRlWVkHikXED5TPBXjh', 'service_tier': 'default', 'finish_reason': 'tool_calls', 'logprobs': None}, id='run--5e7d908c-a097-4a39-976d-9f9a5029a961-0', tool_calls=[{'name': 'add', 'args': {'a': 1, 'b': 2}, 'id': 'call_mfgjKaXkfBJJ0xEvC2ll6i0n', 'type': 'tool_call'}], usage_metadata={'input_tokens': 80, 'output_tokens': 17, 'total_tokens': 97, 'input_token_details': {'audio': 0, 'cache_read': 0}, 'output_token_details': {'audio': 0, 'reasoning': 0}})"
      ]
     },
     "execution_count": 4,
     "metadata": {},
     "output_type": "execute_result"
    }
   ],
   "source": [
    "def add(a:int, b:int) -> int:\n",
    "    \"\"\"Function that take two integers a and b and return the sum of them.\n",
    "    Args:\n",
    "        a: The first integer.\n",
    "        b: The second integer.\n",
    "        \n",
    "    Returns:\n",
    "        The sum of a and b.\n",
    "    \"\"\"\n",
    "    return a + b\n",
    "\n",
    "llm_with_tools = llm.bind_tools([add])\n",
    "\n",
    "response = llm_with_tools.invoke(\"What is the sum of 1 and 2?\")\n",
    "\n",
    "response"
   ]
  },
  {
   "cell_type": "code",
   "execution_count": null,
   "metadata": {},
   "outputs": [],
   "source": []
  }
 ],
 "metadata": {
  "kernelspec": {
   "display_name": ".venv",
   "language": "python",
   "name": "python3"
  },
  "language_info": {
   "codemirror_mode": {
    "name": "ipython",
    "version": 3
   },
   "file_extension": ".py",
   "mimetype": "text/x-python",
   "name": "python",
   "nbconvert_exporter": "python",
   "pygments_lexer": "ipython3",
   "version": "3.12.9"
  }
 },
 "nbformat": 4,
 "nbformat_minor": 2
}
