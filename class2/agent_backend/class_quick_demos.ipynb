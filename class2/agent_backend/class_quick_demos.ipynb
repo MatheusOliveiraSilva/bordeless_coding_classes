{
 "cells": [
  {
   "cell_type": "markdown",
   "id": "a273574c",
   "metadata": {},
   "source": [
    "## Testing LLM Factory"
   ]
  },
  {
   "cell_type": "code",
   "execution_count": null,
   "id": "77796198",
   "metadata": {},
   "outputs": [
    {
     "data": {
      "text/plain": [
       "AIMessage(content=\"Hello! I'm just a digital assistant so I don't have feelings, but I'm here and ready to help you with anything you need. How can I assist you today?\", additional_kwargs={'refusal': None}, response_metadata={'token_usage': {'completion_tokens': 36, 'prompt_tokens': 13, 'total_tokens': 49, 'completion_tokens_details': {'accepted_prediction_tokens': 0, 'audio_tokens': 0, 'reasoning_tokens': 0, 'rejected_prediction_tokens': 0}, 'prompt_tokens_details': {'audio_tokens': 0, 'cached_tokens': 0}}, 'model_name': 'gpt-3.5-turbo-0125', 'system_fingerprint': None, 'id': 'chatcmpl-Bv2sCwaCsBJWcUG1dYbRUedmJrMes', 'service_tier': 'default', 'finish_reason': 'stop', 'logprobs': None}, id='run--e52e57ab-190f-417d-9989-46416008e517-0', usage_metadata={'input_tokens': 13, 'output_tokens': 36, 'total_tokens': 49, 'input_token_details': {'audio': 0, 'cache_read': 0}, 'output_token_details': {'audio': 0, 'reasoning': 0}})"
      ]
     },
     "execution_count": 1,
     "metadata": {},
     "output_type": "execute_result"
    }
   ],
   "source": [
    "from src.common.llm import LLM\n",
    "from src.common.types import LLMConfig\n",
    "\n",
    "llm_factory = LLM(provider=\"openai\", config={\"model\": \"gpt-4o-mini\", \"reasoning\": \"thinking\"})\n",
    "\n",
    "llm = llm_factory.get_llm()\n",
    "llm.invoke(\"Hello, how are you?\")"
   ]
  },
  {
   "cell_type": "code",
   "execution_count": 5,
   "id": "f6d31ca9",
   "metadata": {},
   "outputs": [
    {
     "name": "stdout",
     "output_type": "stream",
     "text": [
      "Tool call: {'name': 'add', 'args': {'a': 2, 'b': 2}, 'id': 'call_5Xp3hXFvAEFmAfn6tJkv6Y2L', 'type': 'tool_call'}\n",
      "Tool result: 4\n",
      "content='What is 2 + 2?' additional_kwargs={} response_metadata={} id='36912585-44d4-4d47-9e5b-b1eab8860291'\n",
      "----------------------------------------------------------------------------------------------------\n",
      "content='' additional_kwargs={'tool_calls': [{'id': 'call_5Xp3hXFvAEFmAfn6tJkv6Y2L', 'function': {'arguments': '{\"a\":2,\"b\":2}', 'name': 'add'}, 'type': 'function'}], 'refusal': None} response_metadata={'token_usage': {'completion_tokens': 17, 'prompt_tokens': 108, 'total_tokens': 125, 'completion_tokens_details': {'accepted_prediction_tokens': 0, 'audio_tokens': 0, 'reasoning_tokens': 0, 'rejected_prediction_tokens': 0}, 'prompt_tokens_details': {'audio_tokens': 0, 'cached_tokens': 0}}, 'model_name': 'gpt-3.5-turbo-0125', 'system_fingerprint': None, 'id': 'chatcmpl-Bv47LUMAtJtjF14AZddG7cJFPS9yh', 'service_tier': 'default', 'finish_reason': 'tool_calls', 'logprobs': None} id='run--a5ae580f-27d7-4a6a-91d9-3c300656f8cb-0' tool_calls=[{'name': 'add', 'args': {'a': 2, 'b': 2}, 'id': 'call_5Xp3hXFvAEFmAfn6tJkv6Y2L', 'type': 'tool_call'}] usage_metadata={'input_tokens': 108, 'output_tokens': 17, 'total_tokens': 125, 'input_token_details': {'audio': 0, 'cache_read': 0}, 'output_token_details': {'audio': 0, 'reasoning': 0}}\n",
      "----------------------------------------------------------------------------------------------------\n",
      "content='4' name='add' id='4e144448-1f28-4239-910a-850cd8ee601d' tool_call_id='call_5Xp3hXFvAEFmAfn6tJkv6Y2L'\n",
      "----------------------------------------------------------------------------------------------------\n"
     ]
    }
   ],
   "source": [
    "from langchain_core.messages import HumanMessage\n",
    "from langchain_core.tools import tool\n",
    "from src.agent.graph import build_graph\n",
    "import time\n",
    "\n",
    "@tool\n",
    "def add(a: int, b: int) -> int:\n",
    "    \"\"\"Add two numbers\"\"\"\n",
    "    time.sleep(10)\n",
    "    return a + b\n",
    "\n",
    "@tool\n",
    "def sub(a: int, b: int) -> int:\n",
    "    \"\"\"Subtract two numbers\"\"\"\n",
    "    time.sleep(10)\n",
    "    return a - b\n",
    "\n",
    "@tool\n",
    "def mul(a: int, b: int) -> int:\n",
    "    \"\"\"Multiply two numbers\"\"\"  \n",
    "    time.sleep(10)\n",
    "    return a * b\n",
    "\n",
    "tools = [add, sub, mul]\n",
    "\n",
    "graph = build_graph(tools)\n",
    "\n",
    "response = graph.invoke(\n",
    "    {\n",
    "        \"messages\": [\n",
    "            HumanMessage(content=\"What is 2 + 2?\")\n",
    "        ],\n",
    "        \"llm_config\": {\n",
    "            \"model\": \"gpt-4o-mini\",\n",
    "        },\n",
    "        \"llm_provider\": \"openai\"\n",
    "    }\n",
    ")\n",
    "\n",
    "for message in response[\"messages\"]:\n",
    "    print(message)\n",
    "    print(\"-\"*100)"
   ]
  },
  {
   "cell_type": "code",
   "execution_count": 3,
   "id": "1b0c5671",
   "metadata": {},
   "outputs": [
    {
     "name": "stdout",
     "output_type": "stream",
     "text": [
      "messages\n",
      "(AIMessageChunk(content='', additional_kwargs={'tool_calls': [{'index': 0, 'id': 'call_CeoIIg6NNWYBGpTsDZd6ohMM', 'function': {'arguments': '', 'name': 'add'}, 'type': 'function'}]}, response_metadata={}, id='run--adde8cd1-ffeb-48a3-8156-9f7671981229', tool_calls=[{'name': 'add', 'args': {}, 'id': 'call_CeoIIg6NNWYBGpTsDZd6ohMM', 'type': 'tool_call'}], tool_call_chunks=[{'name': 'add', 'args': '', 'id': 'call_CeoIIg6NNWYBGpTsDZd6ohMM', 'index': 0, 'type': 'tool_call_chunk'}]), {'langgraph_step': 1, 'langgraph_node': 'chatbot', 'langgraph_triggers': ('branch:to:chatbot',), 'langgraph_path': ('__pregel_pull', 'chatbot'), 'langgraph_checkpoint_ns': 'chatbot:e608e6f7-f029-29d8-e4bb-5739115fdb66', 'checkpoint_ns': 'chatbot:e608e6f7-f029-29d8-e4bb-5739115fdb66', 'ls_provider': 'openai', 'ls_model_name': 'gpt-3.5-turbo', 'ls_model_type': 'chat', 'ls_temperature': None})\n",
      "----------------------------------------------------------------------------------------------------\n",
      "messages\n",
      "(AIMessageChunk(content='', additional_kwargs={'tool_calls': [{'index': 0, 'id': None, 'function': {'arguments': '{\"', 'name': None}, 'type': None}]}, response_metadata={}, id='run--adde8cd1-ffeb-48a3-8156-9f7671981229', tool_calls=[{'name': '', 'args': {}, 'id': None, 'type': 'tool_call'}], tool_call_chunks=[{'name': None, 'args': '{\"', 'id': None, 'index': 0, 'type': 'tool_call_chunk'}]), {'langgraph_step': 1, 'langgraph_node': 'chatbot', 'langgraph_triggers': ('branch:to:chatbot',), 'langgraph_path': ('__pregel_pull', 'chatbot'), 'langgraph_checkpoint_ns': 'chatbot:e608e6f7-f029-29d8-e4bb-5739115fdb66', 'checkpoint_ns': 'chatbot:e608e6f7-f029-29d8-e4bb-5739115fdb66', 'ls_provider': 'openai', 'ls_model_name': 'gpt-3.5-turbo', 'ls_model_type': 'chat', 'ls_temperature': None})\n",
      "----------------------------------------------------------------------------------------------------\n",
      "messages\n",
      "(AIMessageChunk(content='', additional_kwargs={'tool_calls': [{'index': 0, 'id': None, 'function': {'arguments': 'a', 'name': None}, 'type': None}]}, response_metadata={}, id='run--adde8cd1-ffeb-48a3-8156-9f7671981229', invalid_tool_calls=[{'name': None, 'args': 'a', 'id': None, 'error': None, 'type': 'invalid_tool_call'}], tool_call_chunks=[{'name': None, 'args': 'a', 'id': None, 'index': 0, 'type': 'tool_call_chunk'}]), {'langgraph_step': 1, 'langgraph_node': 'chatbot', 'langgraph_triggers': ('branch:to:chatbot',), 'langgraph_path': ('__pregel_pull', 'chatbot'), 'langgraph_checkpoint_ns': 'chatbot:e608e6f7-f029-29d8-e4bb-5739115fdb66', 'checkpoint_ns': 'chatbot:e608e6f7-f029-29d8-e4bb-5739115fdb66', 'ls_provider': 'openai', 'ls_model_name': 'gpt-3.5-turbo', 'ls_model_type': 'chat', 'ls_temperature': None})\n",
      "----------------------------------------------------------------------------------------------------\n",
      "messages\n",
      "(AIMessageChunk(content='', additional_kwargs={'tool_calls': [{'index': 0, 'id': None, 'function': {'arguments': '\":', 'name': None}, 'type': None}]}, response_metadata={}, id='run--adde8cd1-ffeb-48a3-8156-9f7671981229', invalid_tool_calls=[{'name': None, 'args': '\":', 'id': None, 'error': None, 'type': 'invalid_tool_call'}], tool_call_chunks=[{'name': None, 'args': '\":', 'id': None, 'index': 0, 'type': 'tool_call_chunk'}]), {'langgraph_step': 1, 'langgraph_node': 'chatbot', 'langgraph_triggers': ('branch:to:chatbot',), 'langgraph_path': ('__pregel_pull', 'chatbot'), 'langgraph_checkpoint_ns': 'chatbot:e608e6f7-f029-29d8-e4bb-5739115fdb66', 'checkpoint_ns': 'chatbot:e608e6f7-f029-29d8-e4bb-5739115fdb66', 'ls_provider': 'openai', 'ls_model_name': 'gpt-3.5-turbo', 'ls_model_type': 'chat', 'ls_temperature': None})\n",
      "----------------------------------------------------------------------------------------------------\n",
      "messages\n",
      "(AIMessageChunk(content='', additional_kwargs={'tool_calls': [{'index': 0, 'id': None, 'function': {'arguments': '2', 'name': None}, 'type': None}]}, response_metadata={}, id='run--adde8cd1-ffeb-48a3-8156-9f7671981229', invalid_tool_calls=[{'name': None, 'args': '2', 'id': None, 'error': None, 'type': 'invalid_tool_call'}], tool_call_chunks=[{'name': None, 'args': '2', 'id': None, 'index': 0, 'type': 'tool_call_chunk'}]), {'langgraph_step': 1, 'langgraph_node': 'chatbot', 'langgraph_triggers': ('branch:to:chatbot',), 'langgraph_path': ('__pregel_pull', 'chatbot'), 'langgraph_checkpoint_ns': 'chatbot:e608e6f7-f029-29d8-e4bb-5739115fdb66', 'checkpoint_ns': 'chatbot:e608e6f7-f029-29d8-e4bb-5739115fdb66', 'ls_provider': 'openai', 'ls_model_name': 'gpt-3.5-turbo', 'ls_model_type': 'chat', 'ls_temperature': None})\n",
      "----------------------------------------------------------------------------------------------------\n",
      "messages\n",
      "(AIMessageChunk(content='', additional_kwargs={'tool_calls': [{'index': 0, 'id': None, 'function': {'arguments': ',\"', 'name': None}, 'type': None}]}, response_metadata={}, id='run--adde8cd1-ffeb-48a3-8156-9f7671981229', invalid_tool_calls=[{'name': None, 'args': ',\"', 'id': None, 'error': None, 'type': 'invalid_tool_call'}], tool_call_chunks=[{'name': None, 'args': ',\"', 'id': None, 'index': 0, 'type': 'tool_call_chunk'}]), {'langgraph_step': 1, 'langgraph_node': 'chatbot', 'langgraph_triggers': ('branch:to:chatbot',), 'langgraph_path': ('__pregel_pull', 'chatbot'), 'langgraph_checkpoint_ns': 'chatbot:e608e6f7-f029-29d8-e4bb-5739115fdb66', 'checkpoint_ns': 'chatbot:e608e6f7-f029-29d8-e4bb-5739115fdb66', 'ls_provider': 'openai', 'ls_model_name': 'gpt-3.5-turbo', 'ls_model_type': 'chat', 'ls_temperature': None})\n",
      "----------------------------------------------------------------------------------------------------\n",
      "messages\n",
      "(AIMessageChunk(content='', additional_kwargs={'tool_calls': [{'index': 0, 'id': None, 'function': {'arguments': 'b', 'name': None}, 'type': None}]}, response_metadata={}, id='run--adde8cd1-ffeb-48a3-8156-9f7671981229', invalid_tool_calls=[{'name': None, 'args': 'b', 'id': None, 'error': None, 'type': 'invalid_tool_call'}], tool_call_chunks=[{'name': None, 'args': 'b', 'id': None, 'index': 0, 'type': 'tool_call_chunk'}]), {'langgraph_step': 1, 'langgraph_node': 'chatbot', 'langgraph_triggers': ('branch:to:chatbot',), 'langgraph_path': ('__pregel_pull', 'chatbot'), 'langgraph_checkpoint_ns': 'chatbot:e608e6f7-f029-29d8-e4bb-5739115fdb66', 'checkpoint_ns': 'chatbot:e608e6f7-f029-29d8-e4bb-5739115fdb66', 'ls_provider': 'openai', 'ls_model_name': 'gpt-3.5-turbo', 'ls_model_type': 'chat', 'ls_temperature': None})\n",
      "----------------------------------------------------------------------------------------------------\n",
      "messages\n",
      "(AIMessageChunk(content='', additional_kwargs={'tool_calls': [{'index': 0, 'id': None, 'function': {'arguments': '\":', 'name': None}, 'type': None}]}, response_metadata={}, id='run--adde8cd1-ffeb-48a3-8156-9f7671981229', invalid_tool_calls=[{'name': None, 'args': '\":', 'id': None, 'error': None, 'type': 'invalid_tool_call'}], tool_call_chunks=[{'name': None, 'args': '\":', 'id': None, 'index': 0, 'type': 'tool_call_chunk'}]), {'langgraph_step': 1, 'langgraph_node': 'chatbot', 'langgraph_triggers': ('branch:to:chatbot',), 'langgraph_path': ('__pregel_pull', 'chatbot'), 'langgraph_checkpoint_ns': 'chatbot:e608e6f7-f029-29d8-e4bb-5739115fdb66', 'checkpoint_ns': 'chatbot:e608e6f7-f029-29d8-e4bb-5739115fdb66', 'ls_provider': 'openai', 'ls_model_name': 'gpt-3.5-turbo', 'ls_model_type': 'chat', 'ls_temperature': None})\n",
      "----------------------------------------------------------------------------------------------------\n",
      "messages\n",
      "(AIMessageChunk(content='', additional_kwargs={'tool_calls': [{'index': 0, 'id': None, 'function': {'arguments': '2', 'name': None}, 'type': None}]}, response_metadata={}, id='run--adde8cd1-ffeb-48a3-8156-9f7671981229', invalid_tool_calls=[{'name': None, 'args': '2', 'id': None, 'error': None, 'type': 'invalid_tool_call'}], tool_call_chunks=[{'name': None, 'args': '2', 'id': None, 'index': 0, 'type': 'tool_call_chunk'}]), {'langgraph_step': 1, 'langgraph_node': 'chatbot', 'langgraph_triggers': ('branch:to:chatbot',), 'langgraph_path': ('__pregel_pull', 'chatbot'), 'langgraph_checkpoint_ns': 'chatbot:e608e6f7-f029-29d8-e4bb-5739115fdb66', 'checkpoint_ns': 'chatbot:e608e6f7-f029-29d8-e4bb-5739115fdb66', 'ls_provider': 'openai', 'ls_model_name': 'gpt-3.5-turbo', 'ls_model_type': 'chat', 'ls_temperature': None})\n",
      "----------------------------------------------------------------------------------------------------\n",
      "messages\n",
      "(AIMessageChunk(content='', additional_kwargs={'tool_calls': [{'index': 0, 'id': None, 'function': {'arguments': '}', 'name': None}, 'type': None}]}, response_metadata={}, id='run--adde8cd1-ffeb-48a3-8156-9f7671981229', invalid_tool_calls=[{'name': None, 'args': '}', 'id': None, 'error': None, 'type': 'invalid_tool_call'}], tool_call_chunks=[{'name': None, 'args': '}', 'id': None, 'index': 0, 'type': 'tool_call_chunk'}]), {'langgraph_step': 1, 'langgraph_node': 'chatbot', 'langgraph_triggers': ('branch:to:chatbot',), 'langgraph_path': ('__pregel_pull', 'chatbot'), 'langgraph_checkpoint_ns': 'chatbot:e608e6f7-f029-29d8-e4bb-5739115fdb66', 'checkpoint_ns': 'chatbot:e608e6f7-f029-29d8-e4bb-5739115fdb66', 'ls_provider': 'openai', 'ls_model_name': 'gpt-3.5-turbo', 'ls_model_type': 'chat', 'ls_temperature': None})\n",
      "----------------------------------------------------------------------------------------------------\n",
      "messages\n",
      "(AIMessageChunk(content='', additional_kwargs={}, response_metadata={'finish_reason': 'tool_calls', 'model_name': 'gpt-3.5-turbo-0125', 'service_tier': 'default'}, id='run--adde8cd1-ffeb-48a3-8156-9f7671981229'), {'langgraph_step': 1, 'langgraph_node': 'chatbot', 'langgraph_triggers': ('branch:to:chatbot',), 'langgraph_path': ('__pregel_pull', 'chatbot'), 'langgraph_checkpoint_ns': 'chatbot:e608e6f7-f029-29d8-e4bb-5739115fdb66', 'checkpoint_ns': 'chatbot:e608e6f7-f029-29d8-e4bb-5739115fdb66', 'ls_provider': 'openai', 'ls_model_name': 'gpt-3.5-turbo', 'ls_model_type': 'chat', 'ls_temperature': None})\n",
      "----------------------------------------------------------------------------------------------------\n",
      "Tool call: {'name': 'add', 'args': {'a': 2, 'b': 2}, 'id': 'call_CeoIIg6NNWYBGpTsDZd6ohMM', 'type': 'tool_call'}\n",
      "custom\n",
      "{'Tool_call': {'name': 'add', 'args': {'a': 2, 'b': 2}, 'id': 'call_CeoIIg6NNWYBGpTsDZd6ohMM', 'type': 'tool_call'}}\n",
      "----------------------------------------------------------------------------------------------------\n",
      "Tool result: 4\n",
      "custom\n",
      "{'Tool_result': 4}\n",
      "----------------------------------------------------------------------------------------------------\n",
      "messages\n",
      "(ToolMessage(content='4', name='add', id='9558d367-7098-458d-8e8b-5194f071f3ab', tool_call_id='call_CeoIIg6NNWYBGpTsDZd6ohMM'), {'langgraph_step': 2, 'langgraph_node': 'tools', 'langgraph_triggers': ('branch:to:tools',), 'langgraph_path': ('__pregel_pull', 'tools'), 'langgraph_checkpoint_ns': 'tools:4763dfa7-654a-5b07-7254-febecfdb5ab1'})\n",
      "----------------------------------------------------------------------------------------------------\n"
     ]
    }
   ],
   "source": [
    "from langgraph import graph\n",
    "from src.agent.graph import build_graph\n",
    "\n",
    "graph = build_graph(tools)\n",
    "\n",
    "for type, chunk in graph.stream(\n",
    "        {\n",
    "            \"messages\": [\n",
    "                HumanMessage(content=\"What is 2 + 2?\")\n",
    "            ],\n",
    "            \"llm_config\": {\n",
    "                \"model\": \"gpt-4o-mini\",\n",
    "            },\n",
    "            \"llm_provider\": \"openai\"\n",
    "        },\n",
    "        stream_mode=[\"custom\", \"messages\"]\n",
    "    ):\n",
    "\n",
    "    print(type)\n",
    "    print(chunk)\n",
    "    print(\"-\"*100)"
   ]
  },
  {
   "cell_type": "code",
   "execution_count": null,
   "id": "510bf2a0",
   "metadata": {},
   "outputs": [],
   "source": []
  }
 ],
 "metadata": {
  "kernelspec": {
   "display_name": ".venv",
   "language": "python",
   "name": "python3"
  },
  "language_info": {
   "codemirror_mode": {
    "name": "ipython",
    "version": 3
   },
   "file_extension": ".py",
   "mimetype": "text/x-python",
   "name": "python",
   "nbconvert_exporter": "python",
   "pygments_lexer": "ipython3",
   "version": "3.12.9"
  }
 },
 "nbformat": 4,
 "nbformat_minor": 5
}
